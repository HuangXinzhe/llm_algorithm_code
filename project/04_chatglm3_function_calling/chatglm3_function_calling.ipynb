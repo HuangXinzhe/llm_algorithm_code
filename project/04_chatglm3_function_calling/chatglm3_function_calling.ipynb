{
 "cells": [
  {
   "cell_type": "markdown",
   "id": "6f91040a",
   "metadata": {},
   "source": [
    "## 加载模型"
   ]
  },
  {
   "cell_type": "code",
   "execution_count": 1,
   "id": "d1537884-1d7c-49ac-a46c-990d055db57f",
   "metadata": {},
   "outputs": [
    {
     "data": {
      "application/vnd.jupyter.widget-view+json": {
       "model_id": "edfc4570bb784adf9c172135090d704c",
       "version_major": 2,
       "version_minor": 0
      },
      "text/plain": [
       "Loading checkpoint shards:   0%|          | 0/7 [00:00<?, ?it/s]"
      ]
     },
     "metadata": {},
     "output_type": "display_data"
    }
   ],
   "source": [
    "import os\n",
    "import ast\n",
    "import json\n",
    "os.environ['CUDA_VISIBLE_DEVICES'] = '0'\n",
    "from client import HFClient\n",
    "MAX_LENGTH = 4096\n",
    "TRUNCATE_LENGTH = 1024\n",
    "\n",
    "MODEL_PATH = TOKENIZER_PATH = \"THUDM/chatglm3-6b\"\n",
    "client = HFClient(MODEL_PATH, TOKENIZER_PATH, None)"
   ]
  },
  {
   "cell_type": "markdown",
   "id": "78688d9b",
   "metadata": {},
   "source": [
    "## Step1, 提问，生成工具调用"
   ]
  },
  {
   "cell_type": "code",
   "execution_count": 2,
   "id": "cacccf77-8016-4287-b5f1-303562f50794",
   "metadata": {},
   "outputs": [
    {
     "name": "stdout",
     "output_type": "stream",
     "text": [
      "[registered tool] {'description': 'Generates a random number x, s.t. range[0] <= x < range[1]',\n",
      " 'name': 'random_number_generator',\n",
      " 'params': [{'description': 'The random seed used by the generator',\n",
      "             'name': 'seed',\n",
      "             'required': True,\n",
      "             'type': 'int'},\n",
      "            {'description': 'The range of the generated numbers',\n",
      "             'name': 'range',\n",
      "             'required': True,\n",
      "             'type': 'tuple[int, int]'}]}\n",
      "[registered tool] {'description': 'Get the current weather for `city_name`',\n",
      " 'name': 'get_weather',\n",
      " 'params': [{'description': 'The name of the city to be queried',\n",
      "             'name': 'city_name',\n",
      "             'required': True,\n",
      "             'type': 'str'}]}\n",
      "get_weather\n",
      " ```python\n",
      "tool_call(city_name='北京')\n",
      "```<|observation|>\n"
     ]
    }
   ],
   "source": [
    "from tqdm import tqdm\n",
    "from conversation import postprocess_text, preprocess_text, Conversation, Role\n",
    "from tool_registry import dispatch_tool, get_tools\n",
    "tools = get_tools()\n",
    "\n",
    "query = '北京天气怎么样？'\n",
    "history: list[Conversation] = []\n",
    "history.append(Conversation(Role.USER, query))\n",
    "\n",
    "out_text = ''\n",
    "for response in client.generate_stream(\n",
    "                system=None,\n",
    "                tools=tools,\n",
    "                history=history,\n",
    "                do_sample=True,\n",
    "                max_length=MAX_LENGTH,\n",
    "                temperature=1.0,\n",
    "                top_p=0.95,\n",
    "                stop_sequences=[str(r) for r in (Role.USER, Role.OBSERVATION)],\n",
    "            ):\n",
    "    out_text += response.token.text\n",
    "print(out_text)           "
   ]
  },
  {
   "cell_type": "markdown",
   "id": "fec83eef",
   "metadata": {},
   "source": [
    "## Step2, 解析生成的代码"
   ]
  },
  {
   "cell_type": "code",
   "execution_count": 3,
   "id": "59daa88a-5008-4005-ab79-0da1f4ece16e",
   "metadata": {},
   "outputs": [
    {
     "data": {
      "text/plain": [
       "[Conversation(role=<Role.USER: 2>, content='北京天气怎么样？', tool=None, image=None),\n",
       " Conversation(role=<Role.TOOL: 4>, content=\"```python\\ntool_call(city_name='北京')\\n```\", tool='get_weather', image=None)]"
      ]
     },
     "execution_count": 3,
     "metadata": {},
     "output_type": "execute_result"
    }
   ],
   "source": [
    "tool, *output_text = out_text.strip().split('\\n')\n",
    "output_text = '\\n'.join(output_text)\n",
    "history.append(Conversation(Role.TOOL,postprocess_text(output_text),tool,))\n",
    "history"
   ]
  },
  {
   "cell_type": "markdown",
   "id": "32fc38c7",
   "metadata": {},
   "source": [
    "## Step3, 执行 Function"
   ]
  },
  {
   "cell_type": "code",
   "execution_count": 4,
   "id": "d5df0846-8a56-40a2-affe-e7b3f3827cf9",
   "metadata": {},
   "outputs": [
    {
     "name": "stdout",
     "output_type": "stream",
     "text": [
      "tool_call(city_name='北京')\n",
      "\n",
      "=== Tool call:\n",
      "()\n",
      "{'city_name': '北京'}\n",
      "{'lives': {'province': '北京', 'city': '北京市', 'temperature': '0', 'humidity': '51', 'weather': '多云', 'winddirection': '东', 'windpower': '≤3', 'reporttime': '2024-02-24 09:38:27'}}\n"
     ]
    }
   ],
   "source": [
    "import re\n",
    "\n",
    "def extract_code(text: str) -> str:\n",
    "    pattern = r'```([^\\n]*)\\n(.*?)```'\n",
    "    matches = re.findall(pattern, text, re.DOTALL)\n",
    "    return matches[-1][1]\n",
    "\n",
    "def tool_call(*args, **kwargs) -> dict:\n",
    "    print(\"=== Tool call:\")\n",
    "    print(args)\n",
    "    print(kwargs)\n",
    "    return kwargs\n",
    "\n",
    "code = extract_code(output_text)\n",
    "print(code)\n",
    "\n",
    "args = eval(code, {'tool_call': tool_call}, {})\n",
    "\n",
    "from tool_registry import dispatch_tool\n",
    "observation = dispatch_tool(tool, args)\n",
    "print(observation)\n",
    "\n",
    "history.append(Conversation(Role.OBSERVATION, observation))"
   ]
  },
  {
   "cell_type": "markdown",
   "id": "772c22ca",
   "metadata": {},
   "source": [
    "## Step4, 根据用户问题及API结果，返回最终回答"
   ]
  },
  {
   "cell_type": "code",
   "execution_count": 5,
   "id": "5fd441ad-6d6a-4239-bc02-03c9f2c062c5",
   "metadata": {},
   "outputs": [
    {
     "name": "stdout",
     "output_type": "stream",
     "text": [
      "\n",
      " 北京目前的天气情况为多云，气温为0，相对湿度为51%。这个信息是在2024年2月24日9点38分27秒时更新的。\n"
     ]
    }
   ],
   "source": [
    "out_text = ''\n",
    "for response in client.generate_stream(\n",
    "                system=None,\n",
    "                tools=tools,\n",
    "                history=history,\n",
    "                do_sample=True,\n",
    "                max_length=MAX_LENGTH,\n",
    "                temperature=1.0,\n",
    "                top_p=0.95,\n",
    "                stop_sequences=[str(r) for r in (Role.USER, Role.OBSERVATION)],\n",
    "            ):\n",
    "    out_text += response.token.text\n",
    "print(out_text)   "
   ]
  }
 ],
 "metadata": {
  "kernelspec": {
   "display_name": "zzd-env",
   "language": "python",
   "name": "zzd-env"
  },
  "language_info": {
   "codemirror_mode": {
    "name": "ipython",
    "version": 3
   },
   "file_extension": ".py",
   "mimetype": "text/x-python",
   "name": "python",
   "nbconvert_exporter": "python",
   "pygments_lexer": "ipython3",
   "version": "3.10.13"
  }
 },
 "nbformat": 4,
 "nbformat_minor": 5
}
